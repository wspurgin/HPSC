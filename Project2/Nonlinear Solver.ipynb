{
 "metadata": {
  "name": ""
 },
 "nbformat": 3,
 "nbformat_minor": 0,
 "worksheets": [
  {
   "cells": [
    {
     "cell_type": "heading",
     "level": 1,
     "metadata": {},
     "source": [
      "Nonlinear Solvers"
     ]
    },
    {
     "cell_type": "heading",
     "level": 4,
     "metadata": {},
     "source": [
      "Overview"
     ]
    },
    {
     "cell_type": "markdown",
     "metadata": {},
     "source": [
      "The purpose of this lab was to understand both the purpose, application, and efficiency of Nonlinear solvers.\n",
      "Below is all the implementation of this project (in C++). These were all in separate files (as indicated by the End of File comment). Three files are show below: the first is the implementation for Newton's method, the second is the Forward-Finite Difference Newton's Method, and the third is the application problem where these two methods aforementioned as well as the provided bisection method are tested for how quickly and accurately they approximate the root."
     ]
    },
    {
     "cell_type": "heading",
     "level": 5,
     "metadata": {},
     "source": [
      "Code: C++ Files"
     ]
    },
    {
     "cell_type": "raw",
     "metadata": {},
     "source": [
      "/*\n",
      "Will Spurgin\n",
      "9/23/2013\n",
      "HPSC - Nonlinear solvers\n",
      "MATH 3316\n",
      "Newton's Method\n",
      "*/\n",
      "\n",
      "#include <cmath>\n",
      "#include <iostream>\n",
      "\n",
      "using namespace std;\n",
      "\n",
      "double newton(double (*f)(const double), double (*df)(const double), double x,\n",
      "\t\tint maxit, double tol)\n",
      "{\n",
      "\tdouble c;\n",
      "\tif(maxit < 1)\n",
      "\t{\n",
      "\t\tcerr << \"Warning: the maximum iterations is set to: \" << maxit\n",
      "\t\t\t<< \" Resetting to 100\" << endl;\n",
      "\t\tmaxit = 100;\n",
      "\t}\n",
      "\tfor(int i = 0; i < maxit; i++)\n",
      "\t{\n",
      "\t\tc = x - f(x)/df(x);\n",
      "\t\tdouble err = abs(c - x);\n",
      "\t\tcout << \" iter: \" << i << \" | x = \" << x << \" | c = \" << c \n",
      "\t\t\t<< \" | absolute value of f(x) = \" << abs(x) << \" | err = \" << err\n",
      "\t\t\t<< endl;\n",
      "\t\tif(err < tol)\n",
      "\t\t\tbreak;\n",
      "\t\tx = c;\n",
      "\t}\n",
      "\treturn c;\t\n",
      "}\n",
      "//End of File\n",
      "\n",
      "Forward-Finite Difference Newton's Method\n",
      "/*\n",
      "Will Spurgin\n",
      "9/26/2013\n",
      "HPSC - Nonlinear solvers\n",
      "MATH 3316\n",
      "*/\n",
      "\n",
      "#include <cmath>\n",
      "#include <iostream>\n",
      "\n",
      "using namespace std;\n",
      "\n",
      "double fd_newton(double (*f)(const double), double x,\n",
      "\t\tint maxit, double tol, double alpha)\n",
      "{\n",
      "\tdouble c;\n",
      "\tif(maxit < 1)\n",
      "\t{\n",
      "\t\tcerr << \"Warning: the maximum iterations is set to: \" << maxit\n",
      "\t\t\t<< \" Resetting to 100\" << endl;\n",
      "\t\tmaxit = 100;\n",
      "\t}\n",
      "\tfor(int i = 0; i < maxit; i++)\n",
      "\t{\n",
      "\t\tc = x - f(x)/((f(x + alpha) - f(x))/alpha);\n",
      "\t\tdouble err = abs(c - x);\n",
      "\t\tcout << \" iter: \" << i << \" | x = \" << x << \" | c = \" << c \n",
      "\t\t\t<< \" | absolute value of f(x) = \" << abs(x) << \" | err = \" << err\n",
      "\t\t\t<< endl;\n",
      "\t\tif(err < tol)\n",
      "\t\t\tbreak;\n",
      "\t\tx = c;\n",
      "\t}\n",
      "\treturn c;\t\n",
      "}\n",
      "//End of File\n",
      "\n",
      "Application Problem\n",
      "/*\n",
      "Will Spurgin\n",
      "9/30/2013\n",
      "HPSC - Nonlinear solvers\n",
      "MATH 3316\n",
      "*/\n",
      "\n",
      "#include <cmath>\n",
      "#include <iostream>\n",
      "\n",
      "using namespace std;\n",
      "\n",
      "double f(double V);\n",
      "double df(double V);\n",
      "double newton(double (*f)(const double), double (*df)(const double), double x,\n",
      "\t\tint maxit, double tol);\n",
      "double fd_newton(double (*f)(const double), double x,\n",
      "\t\tint maxit, double tol, double alpha);\n",
      "double bisection(double (*f)(const double), \n",
      "\t\t double a, double b, int maxit, double tol);\n",
      "\n",
      "int main(int argc, char** argv)\n",
      "{\n",
      "\tint maxit = 10e3;\n",
      "\tdouble tol = 10e-5;\n",
      "\n",
      "\t//Part (a) bisection\n",
      "\tdouble a = 0.5;\n",
      "\tdouble b = 1.0;\n",
      "\tcout << \"The Approximate root for f(v) using Bisection is: \" << bisection(\n",
      "\t\tf, a, b, maxit, tol) << endl << endl;\n",
      "\n",
      "\t//Part (b) newton's method\n",
      "\tdouble x = 0.75;\n",
      "\tmaxit = 30;\n",
      "\tcout << \"The Approximate root for f(v) using newton's method is: \"\n",
      "\t\t<< newton(f, df, x, maxit, tol) << endl << endl;\n",
      "\n",
      "\t//Part (c) newton forward-finite difference\n",
      "\tdouble alpha = 2e-6;\n",
      "\tcout << \"The Approximate root for f(v) using newton forward-finite \"\n",
      "\t\t<<\" difference alpha = 2e-6 is: \"\n",
      "\t\t<< fd_newton(f, x, maxit, tol, alpha) << endl << endl;\n",
      "\n",
      "\talpha = 2e-26;\n",
      "\tcout << \"The Approximate root for f(v) using newton forward-finite \"\n",
      "\t\t<<\" difference alpha = 2e-26 is: \"\n",
      "\t\t<< fd_newton(f, x, maxit, tol, alpha) << endl << endl;\n",
      "\n",
      "\talpha = 2e-48;\n",
      "\tcout << \"The Approximate root for f(v) using newton forward-finite \"\n",
      "\t\t<<\" difference alpha = 2e-48 is: \"\n",
      "\t\t<< fd_newton(f, x, maxit, tol, alpha) << endl << endl;\n",
      "}\n",
      "\n",
      "double f(double V)\n",
      "{\n",
      "\tdouble q = 1.6022e-19;\n",
      "\tdouble v_oc = 0.8;\n",
      "\tdouble k_b = 1.3806e-23;\n",
      "\tdouble T = 315;\n",
      "\tdouble x = q/(k_b*T);\n",
      "\n",
      "\treturn exp(V*x)*(1 + (V*x)) - exp(v_oc*x); \n",
      "}\n",
      "\n",
      "double df(double V)\n",
      "{\n",
      "\tdouble q = 1.6022e-19;\n",
      "\tdouble k_b = 1.3806e-23;\n",
      "\tdouble T = 315;\n",
      "\tdouble x = q/(k_b*T);\n",
      "\n",
      "\treturn x*exp(V*x)*(1 + V*x) + x*exp(V*x);\n",
      "}\n",
      "//End of File\n"
     ]
    },
    {
     "cell_type": "markdown",
     "metadata": {},
     "source": [
      "As shown above the code for the Project titled Nonlinear Solvers was used to test the speed of three root finding algorithms: Bisection, Newton's Method, and Forward-Finite Difference with Newton's Method."
     ]
    },
    {
     "cell_type": "heading",
     "level": 3,
     "metadata": {},
     "source": [
      "Newton's Method"
     ]
    },
    {
     "cell_type": "markdown",
     "metadata": {},
     "source": [
      "When testing Newton's method on the function:"
     ]
    },
    {
     "cell_type": "markdown",
     "metadata": {},
     "source": [
      "$$x(x - 3)(x + 1)$$"
     ]
    },
    {
     "cell_type": "markdown",
     "metadata": {},
     "source": [
      "which has roots at -1, 0, and 3, Newton's method with an initial guess of $$x = -2$$ took 4 iteration to approximate a root with a tolerance of $10^{-2}$. While $x = -2$ Newton's method always converged to the root at -1. The variance in tolerence for Newton's method when $x = -2$ the amount of iterations increased from 5, to 6, to 7 between the tolerances $10^{-2}$, $10^{-6}$, and $10^{-10}$ respectively. An interesting observation is that Newton's method never converged to the root at $x = 0$ even, but this is primarily because the initial guess was $x = 2$ which was much closer to the root at $x = 3$. Here is the output from test_newton.out to illustrate that observation:"
     ]
    },
    {
     "cell_type": "raw",
     "metadata": {},
     "source": [
      "x = -2, tolerance = 1e-2\n",
      " iter: 0 | x = -2 | c = -1.41176 | absolute value of f(x) = 2 | err = 0.588235\n",
      " iter: 1 | x = -1.41176 | c = -1.11446 | absolute value of f(x) = 1.41176 | err = 0.297303\n",
      " iter: 2 | x = -1.11446 | c = -1.01322 | absolute value of f(x) = 1.11446 | err = 0.101246\n",
      " iter: 3 | x = -1.01322 | c = -1.00021 | absolute value of f(x) = 1.01322 | err = 0.0130028\n",
      " iter: 4 | x = -1.00021 | c = -1 | absolute value of f(x) = 1.00021 | err = 0.000212354\n",
      "\n",
      "The approximated root is -1\n",
      "x = -2, tolerance = 1e-6\n",
      " iter: 0 | x = -2 | c = -1.41176 | absolute value of f(x) = 2 | err = 0.588235\n",
      " iter: 1 | x = -1.41176 | c = -1.11446 | absolute value of f(x) = 1.41176 | err = 0.297303\n",
      " iter: 2 | x = -1.11446 | c = -1.01322 | absolute value of f(x) = 1.11446 | err = 0.101246\n",
      " iter: 3 | x = -1.01322 | c = -1.00021 | absolute value of f(x) = 1.01322 | err = 0.0130028\n",
      " iter: 4 | x = -1.00021 | c = -1 | absolute value of f(x) = 1.00021 | err = 0.000212354\n",
      " iter: 5 | x = -1 | c = -1 | absolute value of f(x) = 1 | err = 5.63727e-08\n",
      "\n",
      "The approximated root is -1\n",
      "\n",
      "x = -2, tolerance = 1e-10\n",
      " iter: 0 | x = -2 | c = -1.41176 | absolute value of f(x) = 2 | err = 0.588235\n",
      " iter: 1 | x = -1.41176 | c = -1.11446 | absolute value of f(x) = 1.41176 | err = 0.297303\n",
      " iter: 2 | x = -1.11446 | c = -1.01322 | absolute value of f(x) = 1.11446 | err = 0.101246\n",
      " iter: 3 | x = -1.01322 | c = -1.00021 | absolute value of f(x) = 1.01322 | err = 0.0130028\n",
      " iter: 4 | x = -1.00021 | c = -1 | absolute value of f(x) = 1.00021 | err = 0.000212354\n",
      " iter: 5 | x = -1 | c = -1 | absolute value of f(x) = 1 | err = 5.63727e-08\n",
      " iter: 6 | x = -1 | c = -1 | absolute value of f(x) = 1 | err = 3.9968e-15\n",
      "\n",
      "The approximated root is -1\n",
      "\n",
      "x = 2, tolerance = 1e-2\n",
      " iter: 0 | x = 2 | c = 8 | absolute value of f(x) = 2 | err = 6\n",
      " iter: 1 | x = 8 | c = 5.70701 | absolute value of f(x) = 8 | err = 2.29299\n",
      " iter: 2 | x = 5.70701 | c = 4.26553 | absolute value of f(x) = 5.70701 | err = 1.44148\n",
      " iter: 3 | x = 4.26553 | c = 3.44217 | absolute value of f(x) = 4.26553 | err = 0.82336\n",
      " iter: 4 | x = 3.44217 | c = 3.0821 | absolute value of f(x) = 3.44217 | err = 0.360074\n",
      " iter: 5 | x = 3.0821 | c = 3.00367 | absolute value of f(x) = 3.0821 | err = 0.0784289\n",
      " iter: 6 | x = 3.00367 | c = 3.00001 | absolute value of f(x) = 3.00367 | err = 0.00365851\n",
      "\n",
      "The approximated root is 3.00001\n",
      "\n",
      "x = 2, tolerance = 1e-6\n",
      " iter: 0 | x = 2 | c = 8 | absolute value of f(x) = 2 | err = 6\n",
      " iter: 1 | x = 8 | c = 5.70701 | absolute value of f(x) = 8 | err = 2.29299\n",
      " iter: 2 | x = 5.70701 | c = 4.26553 | absolute value of f(x) = 5.70701 | err = 1.44148\n",
      " iter: 3 | x = 4.26553 | c = 3.44217 | absolute value of f(x) = 4.26553 | err = 0.82336\n",
      " iter: 4 | x = 3.44217 | c = 3.0821 | absolute value of f(x) = 3.44217 | err = 0.360074\n",
      " iter: 5 | x = 3.0821 | c = 3.00367 | absolute value of f(x) = 3.0821 | err = 0.0784289\n",
      " iter: 6 | x = 3.00367 | c = 3.00001 | absolute value of f(x) = 3.00367 | err = 0.00365851\n",
      " iter: 7 | x = 3.00001 | c = 3 | absolute value of f(x) = 3.00001 | err = 7.81587e-06\n",
      " iter: 8 | x = 3 | c = 3 | absolute value of f(x) = 3 | err = 3.56351e-11\n",
      "\n",
      "The approximated root is 3\n",
      "\n",
      "x = 2, tolerance = 1e-10\n",
      " iter: 0 | x = 2 | c = 8 | absolute value of f(x) = 2 | err = 6\n",
      " iter: 1 | x = 8 | c = 5.70701 | absolute value of f(x) = 8 | err = 2.29299\n",
      " iter: 2 | x = 5.70701 | c = 4.26553 | absolute value of f(x) = 5.70701 | err = 1.44148\n",
      " iter: 3 | x = 4.26553 | c = 3.44217 | absolute value of f(x) = 4.26553 | err = 0.82336\n",
      " iter: 4 | x = 3.44217 | c = 3.0821 | absolute value of f(x) = 3.44217 | err = 0.360074\n",
      " iter: 5 | x = 3.0821 | c = 3.00367 | absolute value of f(x) = 3.0821 | err = 0.0784289\n",
      " iter: 6 | x = 3.00367 | c = 3.00001 | absolute value of f(x) = 3.00367 | err = 0.00365851\n",
      " iter: 7 | x = 3.00001 | c = 3 | absolute value of f(x) = 3.00001 | err = 7.81587e-06\n",
      " iter: 8 | x = 3 | c = 3 | absolute value of f(x) = 3 | err = 3.56351e-11\n",
      "\n",
      "The approximated root is 3\n"
     ]
    },
    {
     "cell_type": "markdown",
     "metadata": {},
     "source": [
      "Explanantion is provided when we look at the Function of $$x(x - 3)(x + 1)$$"
     ]
    },
    {
     "cell_type": "code",
     "collapsed": false,
     "input": [
      "x = linspace(-2.0, 4.0, 700)\n",
      "f1 = x*(x - 3)*(x + 1)\n",
      "plot(x, f1)\n",
      "xlabel('x')\n",
      "ylabel('y')\n",
      "title('$x(x-3)(x+1)$')\n",
      "grid(True)"
     ],
     "language": "python",
     "metadata": {},
     "outputs": [
      {
       "output_type": "display_data",
       "png": "[encoded data removed]"
      }
     ],
     "prompt_number": 2
    },
    {
     "cell_type": "markdown",
     "metadata": {},
     "source": [
      "We can see how $f'(x)$ at 2 is sloped towards the root at $x = 3$, thus why Newton's method would never get to $x = 0$ while our initial guess is equal to 2. However if 1 were the initial guess, Newton's method converges to 0. \n"
     ]
    },
    {
     "cell_type": "raw",
     "metadata": {},
     "source": [
      "x = 1, tolerance = 1e-2\n",
      " iter: 0 | x = 1 | c = 0 | absolute value of f(x) = 1 | err = 1\n",
      " iter: 1 | x = 0 | c = 0 | absolute value of f(x) = 0 | err = 0\n",
      "\n",
      "The approximated root is 0\n",
      "\n",
      "x = 1, tolerance = 1e-6\n",
      " iter: 0 | x = 1 | c = 0 | absolute value of f(x) = 1 | err = 1\n",
      " iter: 1 | x = 0 | c = 0 | absolute value of f(x) = 0 | err = 0\n",
      "\n",
      "The approximated root is 0\n",
      "\n",
      "x = 1, tolerance = 1e-10\n",
      " iter: 0 | x = 1 | c = 0 | absolute value of f(x) = 1 | err = 1\n",
      " iter: 1 | x = 0 | c = 0 | absolute value of f(x) = 0 | err = 0\n",
      "\n",
      "The approximated root is 0"
     ]
    },
    {
     "cell_type": "heading",
     "level": 2,
     "metadata": {},
     "source": [
      "Forward Finite Difference Newton's Method"
     ]
    },
    {
     "cell_type": "markdown",
     "metadata": {},
     "source": [
      "When using the Forward Difference Newton's method, The changes in the tolerance and initial guess for this method had the same results as the regular Newton's method, however, the changes in the extra parameter $\\alpha$ created \"garbage\". Here is an example of the out put when $\\alpha$ went from $2^{-6}$ to $2^{-26}$ with the same tolerance of $1^{-2}$"
     ]
    },
    {
     "cell_type": "raw",
     "metadata": {},
     "source": [
      "x = -2, tolerance = 1e-2, alpha = 2e-6\n",
      " iter: 0 | x = -2 | c = -1.41176 | absolute value of f(x) = 2 | err = 0.588236\n",
      " iter: 1 | x = -1.41176 | c = -1.11446 | absolute value of f(x) = 1.41176 | err = 0.297303\n",
      " iter: 2 | x = -1.11446 | c = -1.01321 | absolute value of f(x) = 1.11446 | err = 0.101246\n",
      " iter: 3 | x = -1.01321 | c = -1.00021 | absolute value of f(x) = 1.01321 | err = 0.0130025\n",
      " iter: 4 | x = -1.00021 | c = -1 | absolute value of f(x) = 1.00021 | err = 0.000212312\n",
      "\n",
      "The approximated root is -1\n",
      "x = -2, tolerance = 1e-2, alpha = 2e-26\n",
      " iter: 0 | x = -2 | c = inf | absolute value of f(x) = 2 | err = inf\n",
      " iter: 1 | x = inf | c = -nan | absolute value of f(x) = inf | err = nan\n",
      " iter: 2 | x = -nan | c = -nan | absolute value of f(x) = nan | err = nan\n",
      " iter: 3 | x = -nan | c = -nan | absolute value of f(x) = nan | err = nan\n",
      " iter: 4 | x = -nan | c = -nan | absolute value of f(x) = nan | err = nan\n",
      " iter: 5 | x = -nan | c = -nan | absolute value of f(x) = nan | err = nan\n",
      " iter: 6 | x = -nan | c = -nan | absolute value of f(x) = nan | err = nan\n",
      " iter: 7 | x = -nan | c = -nan | absolute value of f(x) = nan | err = nan\n",
      " iter: 8 | x = -nan | c = -nan | absolute value of f(x) = nan | err = nan\n",
      " iter: 9 | x = -nan | c = -nan | absolute value of f(x) = nan | err = nan\n",
      " iter: 10 | x = -nan | c = -nan | absolute value of f(x) = nan | err = nan\n",
      " iter: 11 | x = -nan | c = -nan | absolute value of f(x) = nan | err = nan\n",
      " iter: 12 | x = -nan | c = -nan | absolute value of f(x) = nan | err = nan\n",
      " iter: 13 | x = -nan | c = -nan | absolute value of f(x) = nan | err = nan\n",
      " iter: 14 | x = -nan | c = -nan | absolute value of f(x) = nan | err = nan\n",
      " iter: 15 | x = -nan | c = -nan | absolute value of f(x) = nan | err = nan\n",
      " iter: 16 | x = -nan | c = -nan | absolute value of f(x) = nan | err = nan\n",
      " iter: 17 | x = -nan | c = -nan | absolute value of f(x) = nan | err = nan\n",
      " iter: 18 | x = -nan | c = -nan | absolute value of f(x) = nan | err = nan\n",
      " iter: 19 | x = -nan | c = -nan | absolute value of f(x) = nan | err = nan\n",
      "\n",
      "The approximated root is -nan"
     ]
    },
    {
     "cell_type": "markdown",
     "metadata": {},
     "source": [
      "In fact the smallest exponent of 2 I could find that did not create this \"garbage\" was -16"
     ]
    },
    {
     "cell_type": "raw",
     "metadata": {},
     "source": [
      "x = -2, tolerance = 1e-2, alpha = 2e-16\n",
      " iter: 0 | x = -2 | c = -1.43705 | absolute value of f(x) = 2 | err = 0.56295\n",
      " iter: 1 | x = -1.43705 | c = -1.12329 | absolute value of f(x) = 1.43705 | err = 0.31376\n",
      " iter: 2 | x = -1.12329 | c = -1.03757 | absolute value of f(x) = 1.12329 | err = 0.0857242\n",
      " iter: 3 | x = -1.03757 | c = -1.00213 | absolute value of f(x) = 1.03757 | err = 0.0354374\n",
      " iter: 4 | x = -1.00213 | c = -1.00021 | absolute value of f(x) = 1.00213 | err = 0.00192251\n",
      "\n",
      "The approximated root is -1.00021"
     ]
    },
    {
     "cell_type": "markdown",
     "metadata": {},
     "source": [
      "Interestingly, at that value, the accuracy was actually less than at $2^{-6}$\n",
      "\n",
      "In this method, similarly to Newton's method above, when the initial guess was -2, the approximated root was approching -1 (above), whereas when the initial guess was 2, the approximated root approached 3 (below). "
     ]
    },
    {
     "cell_type": "raw",
     "metadata": {},
     "source": [
      "x = 2, tolerance = 1e-2, alpha = 2e-6\n",
      " iter: 0 | x = 2 | c = 7.99995 | absolute value of f(x) = 2 | err = 5.99995\n",
      " iter: 1 | x = 7.99995 | c = 5.70698 | absolute value of f(x) = 7.99995 | err = 2.29298\n",
      " iter: 2 | x = 5.70698 | c = 4.26551 | absolute value of f(x) = 5.70698 | err = 1.44146\n",
      " iter: 3 | x = 4.26551 | c = 3.44216 | absolute value of f(x) = 4.26551 | err = 0.823351\n",
      " iter: 4 | x = 3.44216 | c = 3.08209 | absolute value of f(x) = 3.44216 | err = 0.360068\n",
      " iter: 5 | x = 3.08209 | c = 3.00367 | absolute value of f(x) = 3.08209 | err = 0.0784266\n",
      " iter: 6 | x = 3.00367 | c = 3.00001 | absolute value of f(x) = 3.00367 | err = 0.00365839\n",
      "\n",
      "The approximated root is 3.00001"
     ]
    },
    {
     "cell_type": "markdown",
     "metadata": {},
     "source": [
      "As the tolerance increased, the amount of iterations the method took to approximate the root increased, again much like in Newton's method. In fact the number of iterations are the same with the same tolerance and x as in Newton's method! That being said, this is with $\\alpha$ left at $2^{-6}$ to ensure that an answer was actually returned. "
     ]
    },
    {
     "cell_type": "raw",
     "metadata": {},
     "source": [
      "x = 2, tolerance = 1e-6, alpha = 2e-6\n",
      " iter: 0 | x = 2 | c = 7.99995 | absolute value of f(x) = 2 | err = 5.99995\n",
      " iter: 1 | x = 7.99995 | c = 5.70698 | absolute value of f(x) = 7.99995 | err = 2.29298\n",
      " iter: 2 | x = 5.70698 | c = 4.26551 | absolute value of f(x) = 5.70698 | err = 1.44146\n",
      " iter: 3 | x = 4.26551 | c = 3.44216 | absolute value of f(x) = 4.26551 | err = 0.823351\n",
      " iter: 4 | x = 3.44216 | c = 3.08209 | absolute value of f(x) = 3.44216 | err = 0.360068\n",
      " iter: 5 | x = 3.08209 | c = 3.00367 | absolute value of f(x) = 3.08209 | err = 0.0784266\n",
      " iter: 6 | x = 3.00367 | c = 3.00001 | absolute value of f(x) = 3.00367 | err = 0.00365839\n",
      " iter: 7 | x = 3.00001 | c = 3 | absolute value of f(x) = 3.00001 | err = 7.81959e-06\n",
      " iter: 8 | x = 3 | c = 3 | absolute value of f(x) = 3 | err = 4.47904e-11\n",
      "\n",
      "The approximated root is 3\n",
      "\n",
      "x = 2, tolerance = 1e-10, alpha = 2e-6\n",
      " iter: 0 | x = 2 | c = 7.99995 | absolute value of f(x) = 2 | err = 5.99995\n",
      " iter: 1 | x = 7.99995 | c = 5.70698 | absolute value of f(x) = 7.99995 | err = 2.29298\n",
      " iter: 2 | x = 5.70698 | c = 4.26551 | absolute value of f(x) = 5.70698 | err = 1.44146\n",
      " iter: 3 | x = 4.26551 | c = 3.44216 | absolute value of f(x) = 4.26551 | err = 0.823351\n",
      " iter: 4 | x = 3.44216 | c = 3.08209 | absolute value of f(x) = 3.44216 | err = 0.360068\n",
      " iter: 5 | x = 3.08209 | c = 3.00367 | absolute value of f(x) = 3.08209 | err = 0.0784266\n",
      " iter: 6 | x = 3.00367 | c = 3.00001 | absolute value of f(x) = 3.00367 | err = 0.00365839\n",
      " iter: 7 | x = 3.00001 | c = 3 | absolute value of f(x) = 3.00001 | err = 7.81959e-06\n",
      " iter: 8 | x = 3 | c = 3 | absolute value of f(x) = 3 | err = 4.47904e-11\n",
      "\n",
      "The approximated root is 3\n"
     ]
    },
    {
     "cell_type": "heading",
     "level": 3,
     "metadata": {},
     "source": [
      "Application Problem"
     ]
    },
    {
     "cell_type": "markdown",
     "metadata": {},
     "source": [
      "The Application problem took the function \n",
      "$$e^{(qV)/(k_{b}T})(1 + \\frac{qV}{k_{b}T}) = e^{(qV_{OC})/(k_{b}T})$$\n",
      "\n",
      "and converted it through algebra to \n",
      "$$e^{(qV)/(k_{b}T})(1 + \\frac{qV}{k_{b}T}) - e^{(qV_{OC})/(k_{b}T}) = 0$$\n",
      "in order to apply three root finding methods Bisection, Newton's method, and Forward Finite Difference Newton's method to find the solutions.\n"
     ]
    },
    {
     "cell_type": "heading",
     "level": 5,
     "metadata": {},
     "source": [
      "Output from application.out"
     ]
    },
    {
     "cell_type": "raw",
     "metadata": {},
     "source": [
      " Bisection Method: initial |(b-a)/2| = 0.25\n",
      "   iter 0, [0.5,0.75], |(b-a)/2| = 0.125\n",
      "   iter 1, [0.625,0.75], |(b-a)/2| = 0.0625\n",
      "   iter 2, [0.6875,0.75], |(b-a)/2| = 0.03125\n",
      "   iter 3, [0.6875,0.71875], |(b-a)/2| = 0.015625\n",
      "   iter 4, [0.703125,0.71875], |(b-a)/2| = 0.0078125\n",
      "   iter 5, [0.703125,0.710938], |(b-a)/2| = 0.00390625\n",
      "   iter 6, [0.707031,0.710938], |(b-a)/2| = 0.00195312\n",
      "   iter 7, [0.708984,0.710938], |(b-a)/2| = 0.000976562\n",
      "   iter 8, [0.709961,0.710938], |(b-a)/2| = 0.000488281\n",
      "   iter 9, [0.709961,0.710449], |(b-a)/2| = 0.000244141\n",
      "   iter 10, [0.710205,0.710449], |(b-a)/2| = 0.00012207\n",
      "   iter 11, [0.710327,0.710449], |(b-a)/2| = 6.10352e-05\n",
      "The Approximate root for f(v) using Bisection is: 0.710388\n",
      "\n",
      " iter: 0 | x = 0.75 | c = 0.729553 | absolute value of f(x) = 0.75 | err = 0.0204473\n",
      " iter: 1 | x = 0.729553 | c = 0.715946 | absolute value of f(x) = 0.729553 | err = 0.0136065\n",
      " iter: 2 | x = 0.715946 | c = 0.710922 | absolute value of f(x) = 0.715946 | err = 0.00502401\n",
      " iter: 3 | x = 0.710922 | c = 0.710375 | absolute value of f(x) = 0.710922 | err = 0.000547528\n",
      " iter: 4 | x = 0.710375 | c = 0.710369 | absolute value of f(x) = 0.710375 | err = 5.79851e-06\n",
      "The Approximate root for f(v) using newton's method is: 0.710369\n",
      "\n",
      " iter: 0 | x = 0.75 | c = 0.729553 | absolute value of f(x) = 0.75 | err = 0.0204466\n",
      " iter: 1 | x = 0.729553 | c = 0.715947 | absolute value of f(x) = 0.729553 | err = 0.0136063\n",
      " iter: 2 | x = 0.715947 | c = 0.710923 | absolute value of f(x) = 0.715947 | err = 0.00502456\n",
      " iter: 3 | x = 0.710923 | c = 0.710375 | absolute value of f(x) = 0.710923 | err = 0.000547868\n",
      " iter: 4 | x = 0.710375 | c = 0.710369 | absolute value of f(x) = 0.710375 | err = 5.82688e-06\n",
      "The Approximate root for f(v) using newton forward-finite  difference alpha = 2e-6 is: 0.710369\n"
     ]
    },
    {
     "cell_type": "markdown",
     "metadata": {},
     "source": [
      "Looking at the iterations, with a tolerance of $10^{-5}$ bisection took the longest with 11 iterations, and both Newton and Forward Finite Newton, took the same amount of iterations and both approximated $0.7.10369$ as the root. However when $\\alpha$ decreased, the answer was \"garbage\" as before:"
     ]
    },
    {
     "cell_type": "raw",
     "metadata": {},
     "source": [
      " iter: 0 | x = 0.75 | c = -inf | absolute value of f(x) = 0.75 | err = inf\n",
      " iter: 1 | x = -inf | c = -nan | absolute value of f(x) = inf | err = nan\n",
      " iter: 2 | x = -nan | c = -nan | absolute value of f(x) = nan | err = nan\n",
      " iter: 3 | x = -nan | c = -nan | absolute value of f(x) = nan | err = nan\n",
      " iter: 4 | x = -nan | c = -nan | absolute value of f(x) = nan | err = nan\n",
      " iter: 5 | x = -nan | c = -nan | absolute value of f(x) = nan | err = nan\n",
      " iter: 6 | x = -nan | c = -nan | absolute value of f(x) = nan | err = nan\n",
      " iter: 7 | x = -nan | c = -nan | absolute value of f(x) = nan | err = nan\n",
      " iter: 8 | x = -nan | c = -nan | absolute value of f(x) = nan | err = nan\n",
      " iter: 9 | x = -nan | c = -nan | absolute value of f(x) = nan | err = nan\n",
      " iter: 10 | x = -nan | c = -nan | absolute value of f(x) = nan | err = nan\n",
      " iter: 11 | x = -nan | c = -nan | absolute value of f(x) = nan | err = nan\n",
      " iter: 12 | x = -nan | c = -nan | absolute value of f(x) = nan | err = nan\n",
      " iter: 13 | x = -nan | c = -nan | absolute value of f(x) = nan | err = nan\n",
      " iter: 14 | x = -nan | c = -nan | absolute value of f(x) = nan | err = nan\n",
      " iter: 15 | x = -nan | c = -nan | absolute value of f(x) = nan | err = nan\n",
      " iter: 16 | x = -nan | c = -nan | absolute value of f(x) = nan | err = nan\n",
      " iter: 17 | x = -nan | c = -nan | absolute value of f(x) = nan | err = nan\n",
      " iter: 18 | x = -nan | c = -nan | absolute value of f(x) = nan | err = nan\n",
      " iter: 19 | x = -nan | c = -nan | absolute value of f(x) = nan | err = nan\n",
      " iter: 20 | x = -nan | c = -nan | absolute value of f(x) = nan | err = nan\n",
      " iter: 21 | x = -nan | c = -nan | absolute value of f(x) = nan | err = nan\n",
      " iter: 22 | x = -nan | c = -nan | absolute value of f(x) = nan | err = nan\n",
      " iter: 23 | x = -nan | c = -nan | absolute value of f(x) = nan | err = nan\n",
      " iter: 24 | x = -nan | c = -nan | absolute value of f(x) = nan | err = nan\n",
      " iter: 25 | x = -nan | c = -nan | absolute value of f(x) = nan | err = nan\n",
      " iter: 26 | x = -nan | c = -nan | absolute value of f(x) = nan | err = nan\n",
      " iter: 27 | x = -nan | c = -nan | absolute value of f(x) = nan | err = nan\n",
      " iter: 28 | x = -nan | c = -nan | absolute value of f(x) = nan | err = nan\n",
      " iter: 29 | x = -nan | c = -nan | absolute value of f(x) = nan | err = nan\n",
      "The Approximate root for f(v) using newton forward-finite  difference alpha = 2e-26 is: -nan\n",
      "\n",
      " iter: 0 | x = 0.75 | c = -inf | absolute value of f(x) = 0.75 | err = inf\n",
      " iter: 1 | x = -inf | c = -nan | absolute value of f(x) = inf | err = nan\n",
      " iter: 2 | x = -nan | c = -nan | absolute value of f(x) = nan | err = nan\n",
      " iter: 3 | x = -nan | c = -nan | absolute value of f(x) = nan | err = nan\n",
      " iter: 4 | x = -nan | c = -nan | absolute value of f(x) = nan | err = nan\n",
      " iter: 5 | x = -nan | c = -nan | absolute value of f(x) = nan | err = nan\n",
      " iter: 6 | x = -nan | c = -nan | absolute value of f(x) = nan | err = nan\n",
      " iter: 7 | x = -nan | c = -nan | absolute value of f(x) = nan | err = nan\n",
      " iter: 8 | x = -nan | c = -nan | absolute value of f(x) = nan | err = nan\n",
      " iter: 9 | x = -nan | c = -nan | absolute value of f(x) = nan | err = nan\n",
      " iter: 10 | x = -nan | c = -nan | absolute value of f(x) = nan | err = nan\n",
      " iter: 11 | x = -nan | c = -nan | absolute value of f(x) = nan | err = nan\n",
      " iter: 12 | x = -nan | c = -nan | absolute value of f(x) = nan | err = nan\n",
      " iter: 13 | x = -nan | c = -nan | absolute value of f(x) = nan | err = nan\n",
      " iter: 14 | x = -nan | c = -nan | absolute value of f(x) = nan | err = nan\n",
      " iter: 15 | x = -nan | c = -nan | absolute value of f(x) = nan | err = nan\n",
      " iter: 16 | x = -nan | c = -nan | absolute value of f(x) = nan | err = nan\n",
      " iter: 17 | x = -nan | c = -nan | absolute value of f(x) = nan | err = nan\n",
      " iter: 18 | x = -nan | c = -nan | absolute value of f(x) = nan | err = nan\n",
      " iter: 19 | x = -nan | c = -nan | absolute value of f(x) = nan | err = nan\n",
      " iter: 20 | x = -nan | c = -nan | absolute value of f(x) = nan | err = nan\n",
      " iter: 21 | x = -nan | c = -nan | absolute value of f(x) = nan | err = nan\n",
      " iter: 22 | x = -nan | c = -nan | absolute value of f(x) = nan | err = nan\n",
      " iter: 23 | x = -nan | c = -nan | absolute value of f(x) = nan | err = nan\n",
      " iter: 24 | x = -nan | c = -nan | absolute value of f(x) = nan | err = nan\n",
      " iter: 25 | x = -nan | c = -nan | absolute value of f(x) = nan | err = nan\n",
      " iter: 26 | x = -nan | c = -nan | absolute value of f(x) = nan | err = nan\n",
      " iter: 27 | x = -nan | c = -nan | absolute value of f(x) = nan | err = nan\n",
      " iter: 28 | x = -nan | c = -nan | absolute value of f(x) = nan | err = nan\n",
      " iter: 29 | x = -nan | c = -nan | absolute value of f(x) = nan | err = nan\n",
      "The Approximate root for f(v) using newton forward-finite  difference alpha = 2e-48 is: -nan\n"
     ]
    },
    {
     "cell_type": "markdown",
     "metadata": {},
     "source": [
      "Like before, with $\\alpha = 2^{-6}$ the output was still fine.\n",
      "\n",
      "The easiest solver to use in my opinion was Forward Finite Newtons method. All that method was required was a function, an initial guess, and then a \"fairly\" small value for $\\alpha$, which after this expermination seems to be $2^{-6}$. The next easiest was bisection because it only required a function, a starting point, and an ending point. Newton was last in line because it requried a function, that function's derivative, and an initial guess.\n",
      "\n",
      "Taking the ease of use, and the speed of the methods, Forward Finite difference seems to be the best method in this case with the qualification that $\\alpha = 2^{-6}$"
     ]
    },
    {
     "cell_type": "markdown",
     "metadata": {},
     "source": [
      "The application problem shows clearly how Nonlinear solvers are used to solve difficult problems that have no analytical solution. "
     ]
    }
   ],
   "metadata": {}
  }
 ]
}